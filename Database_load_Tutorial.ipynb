{
  "cells": [
    {
      "cell_type": "markdown",
      "metadata": {
        "id": "n7U7t8vLzdmQ"
      },
      "source": [
        "<a   href=\"https://colab.research.google.com/github//N-Nieto/Inner_Speech_Dataset/blob/master/Database_load_Tutorial.ipynb\" target=\"_parent\"><img src=\"https://colab.research.google.com/assets/colab-badge.svg\" alt=\"Open In Colab\"/></a>"
      ]
    },
    {
      "cell_type": "markdown",
      "metadata": {
        "id": "paw7a25v4CCd"
      },
      "source": [
        "# Tutorial for load the Inner speech database."
      ]
    },
    {
      "cell_type": "markdown",
      "metadata": {
        "id": "ZeJv3XgwUC4R"
      },
      "source": [
        "## Set up - Download and import required libraries"
      ]
    },
    {
      "cell_type": "code",
      "execution_count": 10,
      "metadata": {
        "cellView": "form",
        "colab": {
          "base_uri": "https://localhost:8080/"
        },
        "id": "en9HsrNVTtXg",
        "outputId": "9b20e1be-3a8e-4de4-8a1c-c385a97f9a8a"
      },
      "outputs": [
        {
          "name": "stdout",
          "output_type": "stream",
          "text": [
            "fatal: destination path 'Inner_Speech_Dataset' already exists and is not an empty directory.\n",
            "\u001b[33mWARNING: You are using pip version 21.2.4; however, version 25.0.1 is available.\n",
            "You should consider upgrading via the '/Library/Developer/CommandLineTools/usr/bin/python3 -m pip install --upgrade pip' command.\u001b[0m\n"
          ]
        }
      ],
      "source": [
        "#@title Install dependencies\n",
        "!git clone https://github.com/N-Nieto/Inner_Speech_Dataset -q\n",
        "!pip3 install mne -q"
      ]
    },
    {
      "cell_type": "code",
      "execution_count": 11,
      "metadata": {
        "cellView": "form",
        "id": "GySLvxiqUJzX"
      },
      "outputs": [],
      "source": [
        "# @title Imports\n",
        "import mne\n",
        "import warnings\n",
        "import numpy as np\n",
        "\n",
        "# from google.colab import drive\n",
        "\n",
        "from Inner_Speech_Dataset.Python_Processing.Data_extractions import (\n",
        "    extract_data_from_subject,\n",
        ")\n",
        "from Inner_Speech_Dataset.Python_Processing.Data_processing import (\n",
        "    select_time_window,\n",
        "    transform_for_classificator,\n",
        ")\n",
        "\n",
        "np.random.seed(23)\n",
        "\n",
        "mne.set_log_level(verbose=\"warning\")  # to avoid info at terminal\n",
        "\n",
        "# to avoid warnings from mne\n",
        "warnings.filterwarnings(action=\"ignore\", category=DeprecationWarning)\n",
        "warnings.filterwarnings(action=\"ignore\", category=FutureWarning)"
      ]
    },
    {
      "cell_type": "markdown",
      "metadata": {
        "id": "gcXsT133Chus"
      },
      "source": [
        "## Data Loading."
      ]
    },
    {
      "cell_type": "code",
      "execution_count": 19,
      "metadata": {
        "id": "m6f5cvPq_aYr"
      },
      "outputs": [],
      "source": [
        "### Hyperparameters\n",
        "\n",
        "# The root dir has to point to the folder that contains the database\n",
        "root_dir = \"dataset\"\n",
        "\n",
        "# Data Type (can be exg, which containes EMG muscle, EOG eye, ECG heart or baseline)\n",
        "datatype = \"EEG\"\n",
        "\n",
        "# Sampling rate\n",
        "fs = 256\n",
        "\n",
        "# Select the useful par of each trial. Time in seconds\n",
        "t_start = 1.5\n",
        "t_end = 3.5\n",
        "\n",
        "# Subject number\n",
        "N_S = 1  # [1 to 10]"
      ]
    },
    {
      "cell_type": "code",
      "execution_count": 20,
      "metadata": {
        "cellView": "form",
        "id": "7fQzTOUK1lTn"
      },
      "outputs": [],
      "source": [
        "# @title Data extraction and processing\n",
        "\n",
        "# Load all trials for a single subject\n",
        "X, Y = extract_data_from_subject(root_dir, N_S, datatype)\n",
        "\n",
        "# Cut useful time. i.e action interval\n",
        "X = select_time_window(X=X, t_start=t_start, t_end=t_end, fs=fs)"
      ]
    },
    {
      "cell_type": "code",
      "execution_count": 22,
      "metadata": {
        "id": "9ohrUvI8pip3"
      },
      "outputs": [
        {
          "name": "stdout",
          "output_type": "stream",
          "text": [
            "(X) Data shape: [trials x channels x samples]\n",
            "(500, 128, 512)\n",
            "(Y) Labels shape\n",
            "(500, 4)\n"
          ]
        }
      ],
      "source": [
        "print(\"(X) Data shape: [trials x channels x samples]\")\n",
        "print(X.shape)  # Trials, channels, samples\n",
        "\n",
        "print(\"(Y) Labels shape\")\n",
        "print(Y.shape)  # Time stamp, class , condition, session"
      ]
    },
    {
      "cell_type": "markdown",
      "metadata": {
        "id": "UH40Uwz-09d2"
      },
      "source": [
        "# Understanding the Inner Speech Dataset Dimensions\n",
        "\n",
        "Let me explain the dataset dimensions using concrete examples:\n",
        "\n",
        "## X Data Shape: [500, 128, 512]\n",
        "\n",
        "This means:\n",
        "- **500 trials**: Each trial is one instance of a person thinking a direction\n",
        "- **128 channels**: Data from 128 different EEG electrodes on the scalp\n",
        "- **512 samples**: 512 time points for each trial\n",
        "\n",
        "### Real-World Example:\n",
        "- `X[0]`: The first trial's complete data from all 128 electrodes\n",
        "- `X[0, 5]`: All time samples from channel 6 (zero-indexed) in the first trial\n",
        "- `X[0, 5, 100]`: The voltage value at the 101st time point, from channel 6, in the first trial\n",
        "\n",
        "Since the sampling rate is 256 Hz and you're selecting from 1.5s to 3.5s (2 seconds total), you get 512 samples (256 samples/second × 2 seconds).\n",
        "\n",
        "## Y Labels Shape: [500, 4]\n",
        "\n",
        "This means 500 trials, each with 4 pieces of information:\n",
        "\n",
        "### The 4 columns typically represent:\n",
        "1. **Time stamp**: When the trial occurred\n",
        "2. **Class**: Which direction was being thought (e.g., 1=up, 2=down, 3=left, 4=right)\n",
        "3. **Condition**: The experimental condition (e.g., 1=inner speech, 2=visualized)\n",
        "4. **Session**: Which experimental block/session this came from (1, 2, or 3)\n",
        "\n",
        "### Example of Y data:\n",
        "```\n",
        "Y[0] = [1591871042, 1, 1, 1]  # Time stamp, Up direction, Inner speech condition, Session 1\n",
        "Y[1] = [1591871045, 3, 1, 1]  # Time stamp, Left direction, Inner speech condition, Session 1\n",
        "Y[2] = [1591871049, 2, 1, 1]  # Time stamp, Down direction, Inner speech condition, Session 1\n",
        "```\n",
        "\n",
        "Together, X and Y allow you to know both:\n",
        "1. What the brain activity was (X)\n",
        "2. What direction the person was thinking about (Y)\n",
        "\n",
        "This is the essential data needed to train a classifier that can predict thoughts based on brain activity.\n",
        "\n",
        "## Create the different groups for a classifier. A group is created with one condition and one class. "
      ]
    },
    {
      "cell_type": "code",
      "execution_count": 23,
      "metadata": {
        "id": "RwovCAQCrEme"
      },
      "outputs": [],
      "source": [
        "# Conditions to compared\n",
        "Conditions = [[\"Inner\"], [\"Inner\"]]\n",
        "# The class for the above condition\n",
        "Classes = [[\"Up\"], [\"Down\"]]"
      ]
    },
    {
      "cell_type": "code",
      "execution_count": 24,
      "metadata": {
        "id": "RQgiafjjqshv"
      },
      "outputs": [],
      "source": [
        "# Transform data and keep only the trials of interes\n",
        "X, Y = transform_for_classificator(X, Y, Classes, Conditions)"
      ]
    },
    {
      "cell_type": "code",
      "execution_count": 25,
      "metadata": {
        "colab": {
          "base_uri": "https://localhost:8080/"
        },
        "id": "ooabEqcspZ-X",
        "outputId": "2ac5dc64-43cf-4635-9cf8-f1708a6f86af"
      },
      "outputs": [
        {
          "name": "stdout",
          "output_type": "stream",
          "text": [
            "Final data shape\n",
            "(100, 128, 512)\n",
            "Final labels shape\n",
            "(100,)\n"
          ]
        }
      ],
      "source": [
        "print(\"Final data shape\")\n",
        "print(X.shape)\n",
        "\n",
        "print(\"Final labels shape\")\n",
        "print(Y.shape)"
      ]
    }
  ],
  "metadata": {
    "colab": {
      "collapsed_sections": [],
      "name": "Database_load_Tutorial.ipynb",
      "provenance": []
    },
    "kernelspec": {
      "display_name": "Python 3",
      "language": "python",
      "name": "python3"
    },
    "language_info": {
      "codemirror_mode": {
        "name": "ipython",
        "version": 3
      },
      "file_extension": ".py",
      "mimetype": "text/x-python",
      "name": "python",
      "nbconvert_exporter": "python",
      "pygments_lexer": "ipython3",
      "version": "3.11.11"
    }
  },
  "nbformat": 4,
  "nbformat_minor": 0
}
